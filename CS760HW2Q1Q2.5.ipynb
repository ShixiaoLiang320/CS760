{
 "cells": [
  {
   "cell_type": "code",
   "execution_count": 5,
   "id": "f4dc308b",
   "metadata": {},
   "outputs": [],
   "source": [
    "import numpy as np\n",
    "\n",
    "def entropy(y):\n",
    "    p = np.mean(y)\n",
    "    if p == 0 or p == 1:\n",
    "        return 0\n",
    "    return -p*np.log2(p) - (1-p)*np.log2(1-p)\n",
    "\n",
    "def information_gain_ratio(y, y_left, y_right):\n",
    "    h = entropy(y)\n",
    "    h_left = entropy(y_left)\n",
    "    h_right = entropy(y_right)\n",
    "    if h == 0:\n",
    "        return 0\n",
    "    return (h - len(y_left)/len(y)*h_left - len(y_right)/len(y)*h_right) / h\n",
    "\n",
    "\n",
    "def split_data(X, y, j, c):\n",
    "    left_idx = X[:, j] >= c\n",
    "    right_idx = ~left_idx\n",
    "    return X[left_idx], y[left_idx], X[right_idx], y[right_idx]\n",
    "\n",
    "def decision_tree(X, y):\n",
    "    if len(set(y)) == 1 or len(y) == 0:\n",
    "        return {'prediction': 1 if y.sum() >= len(y)/2 else 0}\n",
    "    \n",
    "    best_igr = 0\n",
    "    best_split = None\n",
    "    \n",
    "    for j in range(X.shape[1]):\n",
    "        for c in set(X[:, j]):\n",
    "            X_left, y_left, X_right, y_right = split_data(X, y, j, c)\n",
    "            igr = information_gain_ratio(y, y_left, y_right)\n",
    "            if igr > best_igr:\n",
    "                best_igr = igr\n",
    "                best_split = (j, c)\n",
    "    \n",
    "    if best_igr == 0:\n",
    "        return {'prediction': 1 if y.sum() >= len(y)/2 else 0}\n",
    "    \n",
    "    X_left, y_left, X_right, y_right = split_data(X, y, *best_split)\n",
    "    return {\n",
    "        'split': best_split,\n",
    "        'left': decision_tree(X_left, y_left),\n",
    "        'right': decision_tree(X_right, y_right)\n",
    "    }\n",
    "\n",
    "def train_decision_tree(file_path):\n",
    "    data = np.loadtxt(file_path)\n",
    "    X = data[:, :-1]\n",
    "    y = data[:, -1]\n",
    "    return decision_tree(X, y)\n",
    "\n",
    "tree1 = train_decision_tree('D1.txt')\n",
    "tree2 = train_decision_tree('D2.txt')"
   ]
  },
  {
   "cell_type": "code",
   "execution_count": 6,
   "id": "18a9e241",
   "metadata": {},
   "outputs": [
    {
     "name": "stdout",
     "output_type": "stream",
     "text": [
      "{'split': (1, 0.201829), 'left': {'prediction': 1}, 'right': {'prediction': 0}}\n",
      "{'split': (0, 0.533076), 'left': {'split': (1, 0.383738), 'left': {'split': (0, 0.550364), 'left': {'prediction': 1}, 'right': {'split': (1, 0.474971), 'left': {'prediction': 1}, 'right': {'prediction': 0}}}, 'right': {'split': (0, 0.761423), 'left': {'split': (1, 0.191206), 'left': {'prediction': 1}, 'right': {'split': (0, 0.90482), 'left': {'split': (1, 0.037708), 'left': {'split': (0, 0.930371), 'left': {'prediction': 1}, 'right': {'split': (0, 0.927522), 'left': {'prediction': 0}, 'right': {'prediction': 1}}}, 'right': {'prediction': 0}}, 'right': {'split': (1, 0.169053), 'left': {'split': (0, 0.850316), 'left': {'prediction': 1}, 'right': {'prediction': 0}}, 'right': {'prediction': 0}}}}, 'right': {'split': (1, 0.301105), 'left': {'split': (0, 0.66337), 'left': {'prediction': 1}, 'right': {'prediction': 0}}, 'right': {'prediction': 0}}}}, 'right': {'split': (1, 0.639018), 'left': {'split': (0, 0.111076), 'left': {'split': (1, 0.861), 'left': {'prediction': 1}, 'right': {'split': (0, 0.33046), 'left': {'prediction': 1}, 'right': {'split': (1, 0.745406), 'left': {'split': (0, 0.254049), 'left': {'prediction': 1}, 'right': {'split': (0, 0.191915), 'left': {'split': (1, 0.792752), 'left': {'prediction': 1}, 'right': {'prediction': 0}}, 'right': {'prediction': 0}}}, 'right': {'prediction': 0}}}}, 'right': {'split': (1, 0.964767), 'left': {'prediction': 1}, 'right': {'prediction': 0}}}, 'right': {'split': (1, 0.534979), 'left': {'split': (0, 0.409972), 'left': {'split': (0, 0.426073), 'left': {'prediction': 1}, 'right': {'split': (0, 0.417579), 'left': {'prediction': 0}, 'right': {'prediction': 1}}}, 'right': {'prediction': 0}}, 'right': {'prediction': 0}}}}\n"
     ]
    }
   ],
   "source": [
    "print(tree1)\n",
    "print(tree2)"
   ]
  },
  {
   "cell_type": "code",
   "execution_count": null,
   "id": "6cebc549",
   "metadata": {},
   "outputs": [],
   "source": [
    "For text \"D1\"\n",
    "\n",
    "        [x[1] >= 0.201829]\n",
    "          /             \\\n",
    "         /               \\\n",
    "[Predict 1]           [Predict 0]\n",
    "(Left Leaf)          (Right Leaf)\n"
   ]
  },
  {
   "cell_type": "code",
   "execution_count": null,
   "id": "e8d06a7d",
   "metadata": {},
   "outputs": [],
   "source": [
    "For text \"D2\"\n",
    "\n",
    "[x[0] >= 0.533076]\n",
    "                |              \n",
    "        ________|________      \n",
    "       |                 |     \n",
    "[x[1] >= 0.383738]   [x[1] >= 0.639018]\n",
    "       |                 |      \n",
    "   ____|____          ___|___   \n",
    "  |         |        |       |  \n",
    "[x[0] >= 0.550364]  [x[0] >= 0.111076] [Predict 0]\n",
    "  |                      |\n",
    "  |___                ___|\n",
    "  |   |              |   |\n",
    "[...] [Predict 0]  [x[1] >= 0.861] [Predict 0]\n",
    "                        |\n",
    "                     ___|___\n",
    "                    |       |\n",
    "                  [x[0] >= 0.33046] [Predict 0]\n",
    "                    |    \n",
    "                 ___|___\n",
    "                |       |\n",
    "              [Predict 1] [x[1] >= 0.745406]\n",
    "                          |\n",
    "                          |\n",
    "                       ___|___\n",
    "                      |       |\n",
    "                    [x[0] >= 0.254049] [Predict 0]\n",
    "                      |\n",
    "                   ___|___\n",
    "                  |       |\n",
    "                [Predict 1] [x[0] >= 0.191915]\n",
    "                              |\n",
    "                              |\n",
    "                            __|__\n",
    "                           |     |\n",
    "                         [x[1] >= 0.792752] [Predict 0]\n",
    "                           |\n",
    "                         __|__\n",
    "                        |     |\n",
    "                      [Predict 1] [Predict 0]\n"
   ]
  }
 ],
 "metadata": {
  "kernelspec": {
   "display_name": "Python 3 (ipykernel)",
   "language": "python",
   "name": "python3"
  },
  "language_info": {
   "codemirror_mode": {
    "name": "ipython",
    "version": 3
   },
   "file_extension": ".py",
   "mimetype": "text/x-python",
   "name": "python",
   "nbconvert_exporter": "python",
   "pygments_lexer": "ipython3",
   "version": "3.9.13"
  }
 },
 "nbformat": 4,
 "nbformat_minor": 5
}
