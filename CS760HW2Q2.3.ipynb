{
 "cells": [
  {
   "cell_type": "code",
   "execution_count": 1,
   "id": "7031c150",
   "metadata": {},
   "outputs": [
    {
     "name": "stdout",
     "output_type": "stream",
     "text": [
      "For feature X1:\n",
      "  - Split on X1 >= 0.0 has Gain Ratio: nan\n",
      "  - Split on X1 >= 0.1 has Gain Ratio: 0.10051807676021828\n",
      "For feature X2:\n",
      "  - Split on X2 >= -2 has Gain Ratio: nan\n",
      "  - Split on X2 >= -1 has Gain Ratio: 0.10051807676021828\n",
      "  - Split on X2 >= 0 has Gain Ratio: 0.055953759631263526\n",
      "  - Split on X2 >= 1 has Gain Ratio: 0.00578004220515232\n",
      "  - Split on X2 >= 2 has Gain Ratio: 0.0011443495172767494\n",
      "  - Split on X2 >= 3 has Gain Ratio: 0.016411136842102134\n",
      "  - Split on X2 >= 4 has Gain Ratio: 0.049749064181778546\n",
      "  - Split on X2 >= 5 has Gain Ratio: 0.11124029586339801\n",
      "  - Split on X2 >= 6 has Gain Ratio: 0.23609960614360798\n",
      "  - Split on X2 >= 7 has Gain Ratio: 0.055953759631263526\n",
      "  - Split on X2 >= 8 has Gain Ratio: 0.4301569161309807\n"
     ]
    },
    {
     "name": "stderr",
     "output_type": "stream",
     "text": [
      "/var/folders/10/wvdf743d5ms1hmr269llqccc0000gn/T/ipykernel_54651/973829257.py:32: RuntimeWarning: divide by zero encountered in log2\n",
      "  split_info = - (len(left) / len(df)) * np.log2(len(left) / len(df)) - (len(right) / len(df)) * np.log2(len(right) / len(df))\n",
      "/var/folders/10/wvdf743d5ms1hmr269llqccc0000gn/T/ipykernel_54651/973829257.py:32: RuntimeWarning: invalid value encountered in double_scalars\n",
      "  split_info = - (len(left) / len(df)) * np.log2(len(left) / len(df)) - (len(right) / len(df)) * np.log2(len(right) / len(df))\n",
      "/var/folders/10/wvdf743d5ms1hmr269llqccc0000gn/T/ipykernel_54651/973829257.py:32: RuntimeWarning: divide by zero encountered in log2\n",
      "  split_info = - (len(left) / len(df)) * np.log2(len(left) / len(df)) - (len(right) / len(df)) * np.log2(len(right) / len(df))\n",
      "/var/folders/10/wvdf743d5ms1hmr269llqccc0000gn/T/ipykernel_54651/973829257.py:32: RuntimeWarning: invalid value encountered in double_scalars\n",
      "  split_info = - (len(left) / len(df)) * np.log2(len(left) / len(df)) - (len(right) / len(df)) * np.log2(len(right) / len(df))\n"
     ]
    }
   ],
   "source": [
    "import pandas as pd\n",
    "import numpy as np\n",
    "\n",
    "data = {'X1': [0.1, 0, 0, 0, 0, 0, 0, 0, 0, 0, 0],\n",
    "        'X2': [-2, -1, 0, 1, 2, 3, 4, 5, 6, 7, 8],\n",
    "        'Y': [0, 1, 0, 0, 0, 0, 0, 0, 1, 0, 1]}\n",
    "df = pd.DataFrame(data)\n",
    "\n",
    "def entropy(y):\n",
    "    p = y.value_counts(normalize=True)\n",
    "    return -np.sum(p * np.log2(p))\n",
    "\n",
    "def gain_ratio_and_information_gain(df, feature, label):\n",
    "    initial_entropy = entropy(df[label])\n",
    "    unique_values = sorted(df[feature].unique())\n",
    "    \n",
    "    results = []\n",
    "    \n",
    "    for value in unique_values:\n",
    "        left = df[df[feature] >= value]\n",
    "        right = df[df[feature] < value]\n",
    "        \n",
    "        left_entropy = entropy(left[label])\n",
    "        right_entropy = entropy(right[label])\n",
    "        \n",
    "        weighted_avg_entropy = (len(left) / len(df)) * left_entropy + (len(right) / len(df)) * right_entropy\n",
    "        information_gain = initial_entropy - weighted_avg_entropy\n",
    "        \n",
    "        split_info = - (len(left) / len(df)) * np.log2(len(left) / len(df)) - (len(right) / len(df)) * np.log2(len(right) / len(df))\n",
    "        if split_info == 0:\n",
    "            results.append((value, 'Information Gain', information_gain))\n",
    "            continue\n",
    "        \n",
    "        gain_ratio = information_gain / split_info\n",
    "        results.append((value, 'Gain Ratio', gain_ratio))\n",
    "    \n",
    "    return results\n",
    "\n",
    "features = ['X1', 'X2']\n",
    "for feature in features:\n",
    "    results = gain_ratio_and_information_gain(df, feature, 'Y')\n",
    "    print(f\"For feature {feature}:\")\n",
    "    for value, metric, result in results:\n",
    "        print(f\"  - Split on {feature} >= {value} has {metric}: {result}\")\n"
   ]
  },
  {
   "cell_type": "code",
   "execution_count": null,
   "id": "1a83f280",
   "metadata": {},
   "outputs": [],
   "source": []
  }
 ],
 "metadata": {
  "kernelspec": {
   "display_name": "Python 3 (ipykernel)",
   "language": "python",
   "name": "python3"
  },
  "language_info": {
   "codemirror_mode": {
    "name": "ipython",
    "version": 3
   },
   "file_extension": ".py",
   "mimetype": "text/x-python",
   "name": "python",
   "nbconvert_exporter": "python",
   "pygments_lexer": "ipython3",
   "version": "3.9.13"
  }
 },
 "nbformat": 4,
 "nbformat_minor": 5
}
